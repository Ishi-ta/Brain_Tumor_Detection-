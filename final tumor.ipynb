{
 "cells": [
  {
   "cell_type": "code",
   "execution_count": 7,
   "metadata": {},
   "outputs": [],
   "source": [
    "import os\n",
    "import joblib\n",
    "from matplotlib import pyplot as plt\n",
    "import cv2\n",
    "import numpy as np"
   ]
  },
  {
   "cell_type": "code",
   "execution_count": 8,
   "metadata": {},
   "outputs": [],
   "source": [
    "model= joblib.load(\"braintumor.sav\")\n",
    "tumorlabel=3"
   ]
  },
  {
   "cell_type": "code",
   "execution_count": 9,
   "metadata": {},
   "outputs": [],
   "source": [
    "test_img_path=r\"C:\\Users\\hp\\OneDrive\\Desktop\\Brain tumor minor\\test_images\"\n",
    "test_img_names= os.listdir(test_img_path)\n"
   ]
  },
  {
   "cell_type": "code",
   "execution_count": 12,
   "metadata": {},
   "outputs": [
    {
     "name": "stdout",
     "output_type": "stream",
     "text": [
      "no. of contours: 1892\n",
      "no. of contours: 3407\n",
      "no. of contours: 3065\n",
      "no. of contours: 3165\n",
      "no. of contours: 3441\n",
      "no. of contours: 2719\n",
      "no. of contours: 2560\n",
      "no. of contours: 3068\n",
      "no. of contours: 3139\n",
      "no. of contours: 2035\n",
      "no. of contours: 2153\n",
      "no. of contours: 1203\n",
      "no. of contours: 1789\n"
     ]
    }
   ],
   "source": [
    "for test_img_name in test_img_names:\n",
    "    \n",
    "    img_path =os.path.join(test_img_path,test_img_name)\n",
    "    img=cv2.imread(img_path,0)\n",
    "    img_orignal=cv2.imread(img_path)\n",
    "    height,width=img.shape\n",
    "    imgflatten= img.reshape(height*width,1)\n",
    "    label=model.predict(imgflatten)\n",
    "    label2d =label.reshape(height,width,)\n",
    "    mask=(label2d==tumorlabel)\n",
    "    tumorExtracted=np.bitwise_and(mask,img)\n",
    "    contours,hiearachy=cv2.findContours(tumorExtracted,cv2.RETR_TREE,cv2.CHAIN_APPROX_SIMPLE)\n",
    "    print(\"no. of contours:\", len(contours))\n",
    "    #cv2.drawContours(img_orignal,contours,1457,(0,255,255),2)\n",
    "    \n",
    "    for index,cnt in enumerate(contours):\n",
    "\n",
    "        area= cv2.contourArea(cnt)\n",
    "\n",
    "        if area>1000:\n",
    "            cv2.drawContours(img_orignal,[cnt],-1,(0,255,255),2)\n",
    "            x,y,w,h=cv2.boundingRect(cnt)\n",
    "            cv2.rectangle(img_orignal,(x,y),(x+w,y+h),(0,255,0),2)\n",
    "            cv2.rectangle(img_orignal,(x,y),(x+120,y-40),(0,255,0),-1)\n",
    "            cv2.putText(img_orignal,\"Tumor\",(x+10,y-10),cv2.FONT_HERSHEY_SIMPLEX,1,(255,255,255),2)\n",
    "            \n",
    "\n",
    "\n",
    "\n",
    "    cv2.imshow('Live',img_orignal)\n",
    "    cv2.waitKey()\n",
    "cv2.destroyAllWindows()"
   ]
  },
  {
   "cell_type": "code",
   "execution_count": null,
   "metadata": {},
   "outputs": [],
   "source": [
    "    "
   ]
  },
  {
   "cell_type": "code",
   "execution_count": 22,
   "metadata": {},
   "outputs": [],
   "source": [
    "    "
   ]
  },
  {
   "cell_type": "code",
   "execution_count": null,
   "metadata": {},
   "outputs": [],
   "source": []
  }
 ],
 "metadata": {
  "kernelspec": {
   "display_name": "Python 3",
   "language": "python",
   "name": "python3"
  },
  "language_info": {
   "codemirror_mode": {
    "name": "ipython",
    "version": 3
   },
   "file_extension": ".py",
   "mimetype": "text/x-python",
   "name": "python",
   "nbconvert_exporter": "python",
   "pygments_lexer": "ipython3",
   "version": "3.8.5"
  }
 },
 "nbformat": 4,
 "nbformat_minor": 4
}
